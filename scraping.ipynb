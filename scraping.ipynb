{
 "cells": [
  {
   "cell_type": "code",
   "execution_count": 2,
   "metadata": {},
   "outputs": [],
   "source": [
    "import requests"
   ]
  },
  {
   "cell_type": "code",
   "execution_count": 3,
   "metadata": {},
   "outputs": [],
   "source": [
    "import numpy as np"
   ]
  },
  {
   "cell_type": "code",
   "execution_count": 4,
   "metadata": {},
   "outputs": [],
   "source": [
    "from bs4 import BeautifulSoup"
   ]
  },
  {
   "cell_type": "code",
   "execution_count": 5,
   "metadata": {},
   "outputs": [],
   "source": [
    "from pandas import DataFrame"
   ]
  },
  {
   "cell_type": "code",
   "execution_count": 6,
   "metadata": {},
   "outputs": [],
   "source": [
    "url = \"https://www.data.jma.go.jp/obd/stats/etrn/upper/view/daily_uth.php?year=1999&month=5&day=7&hour=9&atm=&point=47918&view=\""
   ]
  },
  {
   "cell_type": "code",
   "execution_count": 7,
   "metadata": {},
   "outputs": [],
   "source": [
    "req = requests.get(url)"
   ]
  },
  {
   "cell_type": "code",
   "execution_count": 8,
   "metadata": {},
   "outputs": [],
   "source": [
    "soup = BeautifulSoup(req.content, \"html.parser\")"
   ]
  },
  {
   "cell_type": "code",
   "execution_count": 9,
   "metadata": {},
   "outputs": [],
   "source": [
    "table1 = soup.find('table', id='tablefix1')"
   ]
  },
  {
   "cell_type": "code",
   "execution_count": 10,
   "metadata": {
    "scrolled": true
   },
   "outputs": [],
   "source": [
    "th_all = table1.find_all('th')"
   ]
  },
  {
   "cell_type": "code",
   "execution_count": 11,
   "metadata": {},
   "outputs": [
    {
     "name": "stdout",
     "output_type": "stream",
     "text": [
      "[<th scope=\"col\">気圧(hPa)</th>, <th scope=\"col\">ジオポテンシャル<br/>高度(m)</th>, <th scope=\"col\">気温(℃)</th>, <th scope=\"col\">相対湿度(%)</th>, <th scope=\"col\">識別符</th>]\n"
     ]
    }
   ],
   "source": [
    "print(th_all)"
   ]
  },
  {
   "cell_type": "code",
   "execution_count": 12,
   "metadata": {},
   "outputs": [],
   "source": [
    "table1_column = []"
   ]
  },
  {
   "cell_type": "code",
   "execution_count": 13,
   "metadata": {},
   "outputs": [],
   "source": [
    "for th in th_all:\n",
    "    table1_column.append(th.string)"
   ]
  },
  {
   "cell_type": "code",
   "execution_count": 14,
   "metadata": {
    "scrolled": true
   },
   "outputs": [
    {
     "name": "stdout",
     "output_type": "stream",
     "text": [
      "['気圧(hPa)', None, '気温(℃)', '相対湿度(%)', '識別符']\n"
     ]
    }
   ],
   "source": [
    "print(table1_column)"
   ]
  },
  {
   "cell_type": "markdown",
   "metadata": {},
   "source": [
    "Noneと表示されてしまった。  \n",
    "理由としては  \n",
    "```the_all```のジオポテンシャルと高度(m)の間に  \n",
    "`<br>`が入ってしまっているためである。  \n",
    "解決策として、`.string`の代わりに`.text`を使う。"
   ]
  },
  {
   "cell_type": "code",
   "execution_count": 15,
   "metadata": {},
   "outputs": [],
   "source": [
    "table1_column = []"
   ]
  },
  {
   "cell_type": "code",
   "execution_count": 16,
   "metadata": {},
   "outputs": [],
   "source": [
    "for th in th_all:\n",
    "    table1_column.append(th.text)"
   ]
  },
  {
   "cell_type": "code",
   "execution_count": 17,
   "metadata": {
    "scrolled": false
   },
   "outputs": [
    {
     "name": "stdout",
     "output_type": "stream",
     "text": [
      "['気圧(hPa)', 'ジオポテンシャル高度(m)', '気温(℃)', '相対湿度(%)', '識別符']\n"
     ]
    }
   ],
   "source": [
    "print(table1_column)"
   ]
  },
  {
   "cell_type": "code",
   "execution_count": 18,
   "metadata": {},
   "outputs": [],
   "source": [
    "tr_all = table1.find_all('tr')"
   ]
  },
  {
   "cell_type": "code",
   "execution_count": 19,
   "metadata": {},
   "outputs": [],
   "source": [
    "tr_all = tr_all[1:]"
   ]
  },
  {
   "cell_type": "code",
   "execution_count": 20,
   "metadata": {},
   "outputs": [],
   "source": [
    "col_num = len(table1_column)"
   ]
  },
  {
   "cell_type": "code",
   "execution_count": 21,
   "metadata": {},
   "outputs": [],
   "source": [
    "row_num = len(tr_all)"
   ]
  },
  {
   "cell_type": "code",
   "execution_count": 22,
   "metadata": {},
   "outputs": [],
   "source": [
    "table1_data = np.zeros((row_num, col_num), dtype=object)"
   ]
  },
  {
   "cell_type": "markdown",
   "metadata": {},
   "source": [
    "`dtype=object`*重要*  \n",
    "NumPy配列には同じ型の要素しか格納できない  \n",
    "`dtype`を指定しないと気圧や気温は数値型であるのに対し、  \n",
    "識別符の要素は文字列のためnumpy配列に要素を格納するときにエラーがでる"
   ]
  },
  {
   "cell_type": "code",
   "execution_count": 23,
   "metadata": {},
   "outputs": [],
   "source": [
    "for r, tr in enumerate(tr_all):\n",
    "    td_all = tr.find_all('td')\n",
    "    table1_data[r,:] = [td.string for td in td_all]"
   ]
  },
  {
   "cell_type": "code",
   "execution_count": 24,
   "metadata": {},
   "outputs": [],
   "source": [
    "df = DataFrame(data=table1_data, columns=table1_column)"
   ]
  },
  {
   "cell_type": "code",
   "execution_count": 25,
   "metadata": {},
   "outputs": [
    {
     "data": {
      "text/html": [
       "<div>\n",
       "<style scoped>\n",
       "    .dataframe tbody tr th:only-of-type {\n",
       "        vertical-align: middle;\n",
       "    }\n",
       "\n",
       "    .dataframe tbody tr th {\n",
       "        vertical-align: top;\n",
       "    }\n",
       "\n",
       "    .dataframe thead th {\n",
       "        text-align: right;\n",
       "    }\n",
       "</style>\n",
       "<table border=\"1\" class=\"dataframe\">\n",
       "  <thead>\n",
       "    <tr style=\"text-align: right;\">\n",
       "      <th></th>\n",
       "      <th>気圧(hPa)</th>\n",
       "      <th>ジオポテンシャル高度(m)</th>\n",
       "      <th>気温(℃)</th>\n",
       "      <th>相対湿度(%)</th>\n",
       "      <th>識別符</th>\n",
       "    </tr>\n",
       "  </thead>\n",
       "  <tbody>\n",
       "    <tr>\n",
       "      <th>0</th>\n",
       "      <td>1012.0</td>\n",
       "      <td>7</td>\n",
       "      <td>18.7</td>\n",
       "      <td>87</td>\n",
       "      <td>特異点</td>\n",
       "    </tr>\n",
       "    <tr>\n",
       "      <th>1</th>\n",
       "      <td>1002.1</td>\n",
       "      <td>91</td>\n",
       "      <td>18.0</td>\n",
       "      <td>78</td>\n",
       "      <td>None</td>\n",
       "    </tr>\n",
       "    <tr>\n",
       "      <th>2</th>\n",
       "      <td>977.9</td>\n",
       "      <td>301</td>\n",
       "      <td>17.4</td>\n",
       "      <td>82</td>\n",
       "      <td>None</td>\n",
       "    </tr>\n",
       "    <tr>\n",
       "      <th>3</th>\n",
       "      <td>848.1</td>\n",
       "      <td>1505</td>\n",
       "      <td>10.7</td>\n",
       "      <td>95</td>\n",
       "      <td>特異点</td>\n",
       "    </tr>\n",
       "    <tr>\n",
       "      <th>4</th>\n",
       "      <td>764.3</td>\n",
       "      <td>2369</td>\n",
       "      <td>7.6</td>\n",
       "      <td>95</td>\n",
       "      <td>None</td>\n",
       "    </tr>\n",
       "  </tbody>\n",
       "</table>\n",
       "</div>"
      ],
      "text/plain": [
       "  気圧(hPa) ジオポテンシャル高度(m) 気温(℃) 相対湿度(%)   識別符\n",
       "0  1012.0             7  18.7      87   特異点\n",
       "1  1002.1            91  18.0      78  None\n",
       "2   977.9           301  17.4      82  None\n",
       "3   848.1          1505  10.7      95   特異点\n",
       "4   764.3          2369   7.6      95  None"
      ]
     },
     "metadata": {},
     "output_type": "display_data"
    }
   ],
   "source": [
    "display(df.head())"
   ]
  },
  {
   "cell_type": "code",
   "execution_count": 26,
   "metadata": {},
   "outputs": [
    {
     "data": {
      "text/html": [
       "<div>\n",
       "<style scoped>\n",
       "    .dataframe tbody tr th:only-of-type {\n",
       "        vertical-align: middle;\n",
       "    }\n",
       "\n",
       "    .dataframe tbody tr th {\n",
       "        vertical-align: top;\n",
       "    }\n",
       "\n",
       "    .dataframe thead th {\n",
       "        text-align: right;\n",
       "    }\n",
       "</style>\n",
       "<table border=\"1\" class=\"dataframe\">\n",
       "  <thead>\n",
       "    <tr style=\"text-align: right;\">\n",
       "      <th></th>\n",
       "      <th>気圧(hPa)</th>\n",
       "      <th>ジオポテンシャル高度(m)</th>\n",
       "      <th>気温(℃)</th>\n",
       "      <th>相対湿度(%)</th>\n",
       "      <th>識別符</th>\n",
       "    </tr>\n",
       "  </thead>\n",
       "  <tbody>\n",
       "    <tr>\n",
       "      <th>47</th>\n",
       "      <td>55.3</td>\n",
       "      <td>19962</td>\n",
       "      <td>-69.8</td>\n",
       "      <td>///</td>\n",
       "      <td>特異点</td>\n",
       "    </tr>\n",
       "    <tr>\n",
       "      <th>48</th>\n",
       "      <td>51.9</td>\n",
       "      <td>20345</td>\n",
       "      <td>-64.1</td>\n",
       "      <td>///</td>\n",
       "      <td>None</td>\n",
       "    </tr>\n",
       "    <tr>\n",
       "      <th>49</th>\n",
       "      <td>49.3</td>\n",
       "      <td>20661</td>\n",
       "      <td>-61.7</td>\n",
       "      <td>///</td>\n",
       "      <td>特異点</td>\n",
       "    </tr>\n",
       "    <tr>\n",
       "      <th>50</th>\n",
       "      <td>45.0</td>\n",
       "      <td>21229</td>\n",
       "      <td>-59.7</td>\n",
       "      <td>///</td>\n",
       "      <td>None</td>\n",
       "    </tr>\n",
       "    <tr>\n",
       "      <th>51</th>\n",
       "      <td>42.9</td>\n",
       "      <td>21527</td>\n",
       "      <td>-59.8</td>\n",
       "      <td>///</td>\n",
       "      <td>特異点</td>\n",
       "    </tr>\n",
       "  </tbody>\n",
       "</table>\n",
       "</div>"
      ],
      "text/plain": [
       "   気圧(hPa) ジオポテンシャル高度(m)  気温(℃) 相対湿度(%)   識別符\n",
       "47    55.3         19962  -69.8     ///   特異点\n",
       "48    51.9         20345  -64.1     ///  None\n",
       "49    49.3         20661  -61.7     ///   特異点\n",
       "50    45.0         21229  -59.7     ///  None\n",
       "51    42.9         21527  -59.8     ///   特異点"
      ]
     },
     "metadata": {},
     "output_type": "display_data"
    }
   ],
   "source": [
    "display(df.tail())"
   ]
  },
  {
   "cell_type": "code",
   "execution_count": 29,
   "metadata": {},
   "outputs": [
    {
     "name": "stdout",
     "output_type": "stream",
     "text": [
      "石垣島　1999年5月7日9時\n"
     ]
    }
   ],
   "source": [
    "title = soup.find('h3')\n",
    "print(title.text)"
   ]
  },
  {
   "cell_type": "code",
   "execution_count": 31,
   "metadata": {},
   "outputs": [],
   "source": [
    "df.to_csv(\"./ishigaki19990507.csv\")"
   ]
  }
 ],
 "metadata": {
  "kernelspec": {
   "display_name": "Python 3",
   "language": "python",
   "name": "python3"
  },
  "language_info": {
   "codemirror_mode": {
    "name": "ipython",
    "version": 3
   },
   "file_extension": ".py",
   "mimetype": "text/x-python",
   "name": "python",
   "nbconvert_exporter": "python",
   "pygments_lexer": "ipython3",
   "version": "3.7.2"
  }
 },
 "nbformat": 4,
 "nbformat_minor": 2
}
